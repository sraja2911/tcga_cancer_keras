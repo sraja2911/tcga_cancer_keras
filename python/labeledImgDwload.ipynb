{
 "cells": [
  {
   "cell_type": "code",
   "execution_count": 1,
   "metadata": {},
   "outputs": [
    {
     "name": "stdout",
     "output_type": "stream",
     "text": [
      "Login or email: admin\n",
      "Password for admin: ········\n"
     ]
    }
   ],
   "source": [
    "import girder_client\n",
    "API_URL = \"http://adrc.digitalslidearchive.emory.edu:8080/api/v1\"\n",
    "\n",
    "gc = girder_client.GirderClient(apiUrl=API_URL)\n",
    "gc.authenticate(interactive=True)\n",
    "from pprint import pprint\n",
    "import sys, os\n",
    "from IPython.display import Image\n",
    "\n",
    "# dsaGC = gc.GirderClient(apiUrl=\"http://adrc.digitalslidearchive.emory.edu:8080/api/v1\")"
   ]
  },
  {
   "cell_type": "code",
   "execution_count": 2,
   "metadata": {},
   "outputs": [],
   "source": [
    "class LinePrinter():\n",
    "    \"\"\"\n",
    "    Print things to stdout on one line dynamically\n",
    "    \"\"\"\n",
    "    def __init__(self,data):\n",
    "        sys.stdout.write(\"\\r\\x1b[K\"+data.__str__())\n",
    "        sys.stdout.flush()"
   ]
  },
  {
   "cell_type": "code",
   "execution_count": null,
   "metadata": {
    "scrolled": true
   },
   "outputs": [
    {
     "name": "stdout",
     "output_type": "stream",
     "text": [
      "\u001b[KSaving image 1261 of 2295"
     ]
    }
   ],
   "source": [
    "def saveImage(slide, path, imgWidth=1000):\n",
    "    if not os.path.isdir(path):\n",
    "        os.mkdir(path)\n",
    "    curImageMacroUrl = '/item/%s/tiles/thumbnail?width=%s' % (slide['_id'],imgWidth)\n",
    "    curImage = gc.get(curImageMacroUrl,  jsonResp=False)        \n",
    "    \n",
    "    filename=slide['name']\n",
    "    filename = path + filename[:len(filename)-4] + '&id-' + slide['_id'] + '.jpg'\n",
    "    if not os.path.exists(filename):\n",
    "        with open(filename,\"wb\") as fp:\n",
    "            fp.write(curImage.content)\n",
    "\n",
    "folderID = '5ae351e792ca9a0020d95e50'\n",
    "numImages = len(list(gc.listItem(folderID)))\n",
    "count = 0\n",
    "classes = ['Ink|Blood', 'Ink', 'Blood', 'Control']\n",
    "# classes = {label :0 for label in classes}\n",
    "for slide in gc.listItem(folderID):\n",
    "    count += 1\n",
    "    LinePrinter(\"Saving image %s of %s\" % (count, numImages))\n",
    "    tags = slide['meta']['tags']     \n",
    "    try:\n",
    "        if tags['Ink'] == \"Yes\" and tags['Blood'] == \"Yes\" and tags['AirBubble'] == \"No\":\n",
    "            path = \"TrainingImages/BloodInk/\"\n",
    "            saveImage(slide, path)\n",
    "        elif tags['Ink'] == \"Yes\" and tags['Blood'] == \"No\" and tags['AirBubble'] == \"No\":\n",
    "            path = \"TrainingImages/Ink/\"\n",
    "            saveImage(slide, path)\n",
    "        elif tags['Ink'] == \"No\" and tags['Blood'] == \"Yes\" and tags['AirBubble'] == \"No\":\n",
    "            path = \"TrainingImages/Blood/\"\n",
    "            saveImage(slide, path)\n",
    "        elif tags['Ink'] == \"No\" and tags['Blood'] == \"No\" and tags['AirBubble'] == \"No\":\n",
    "            path = \"TrainingImages/Control/\"\n",
    "            saveImage(slide, path)              \n",
    "        pass\n",
    "    except:\n",
    "        path = \"TrainingImages/Unlabeled/\"\n",
    "        saveImage(slide, path)    \n",
    "        continue"
   ]
  },
  {
   "cell_type": "code",
   "execution_count": null,
   "metadata": {},
   "outputs": [],
   "source": []
  }
 ],
 "metadata": {
  "kernelspec": {
   "display_name": "Python 2 (htkProject)",
   "language": "python",
   "name": "htkproject"
  },
  "language_info": {
   "codemirror_mode": {
    "name": "ipython",
    "version": 2
   },
   "file_extension": ".py",
   "mimetype": "text/x-python",
   "name": "python",
   "nbconvert_exporter": "python",
   "pygments_lexer": "ipython2",
   "version": "2.7.14"
  }
 },
 "nbformat": 4,
 "nbformat_minor": 2
}
