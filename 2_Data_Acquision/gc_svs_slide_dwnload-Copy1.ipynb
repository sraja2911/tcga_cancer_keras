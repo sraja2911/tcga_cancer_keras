{
 "cells": [
  {
   "cell_type": "code",
   "execution_count": null,
   "metadata": {},
   "outputs": [],
   "source": [
    "import girder_client\n",
    "API_URL = \"http://digitalslidearchive.emory.edu:8080/api/v1\"\n",
    "gc = girder_client.GirderClient(apiUrl=API_URL)\n",
    "gc.authenticate(interactive=True)"
   ]
  },
  {
   "cell_type": "code",
   "execution_count": null,
   "metadata": {},
   "outputs": [],
   "source": [
    "import sys\n",
    "def recurseGetItems(client, folderID, parentType='folder'):\n",
    "    folders = []\n",
    "    folders.extend(client.listFolder(folderID, parentFolderType=parentType))\n",
    "    items = []\n",
    "    \n",
    "    try:\n",
    "        items.extend(client.listItme(folderID))\n",
    "    except:\n",
    "        items = []\n",
    "        \n",
    "    if len(folders) is not 0:\n",
    "        for fld in folders:\n",
    "            items.extend (recurseGetItems(client,fld['id']))\n",
    "    return items"
   ]
  },
  {
   "cell_type": "code",
   "execution_count": null,
   "metadata": {},
   "outputs": [],
   "source": [
    "rajsFldId = '5b031a2092ca9a001abb1b74'\n",
    "count =0\n",
    "\n",
    "for sld in gc.getResource('resource/' + rajsFldId + '/items?type=folder&limit=10000&sort=_id&sortdir=1'):\n",
    "    count+=1\n",
    "    \n",
    "print count"
   ]
  },
  {
   "cell_type": "code",
   "execution_count": null,
   "metadata": {},
   "outputs": [],
   "source": [
    "import girder_client\n",
    "API_URL = \"http://digitalslidearchive.emory.edu:8080/api/v1\"\n",
    "\n",
    "gc = girder_client.GirderClient(apiUrl=API_URL)\n",
    "gc.authenticate(interactive=True)\n",
    "from pprint import pprint\n",
    "import sys, os\n",
    "from IPython.display import Image\n",
    "import urllib\n",
    "\n",
    "# dsaGC = gc.GirderClient(apiUrl=\"http://adrc.digitalslidearchive.emory.edu:8080/api/v1\")\n",
    "\n",
    "class LinePrinter():\n",
    "    \"\"\"\n",
    "    Print things to stdout on one line dynamically\n",
    "    \"\"\"\n",
    "    def __init__(self,data):\n",
    "        sys.stdout.write(\"\\r\\x1b[K\"+data.__str__())\n",
    "        sys.stdout.flush()\n",
    "\n",
    "def saveSVSslide(slide, path):\n",
    "    url =  \"http://adrc.digitalslidearchive.emory.edu:8080/api/v1/item/%s/download?contentDisposition=attachment\" \\\n",
    "        % slide['_id']\n",
    "    urllib.urlretrieve(url, path+slide['name'])\n",
    "\n",
    "folderID = '5ae351e792ca9a0020d95e50'\n",
    "numImages = len(list(gc.listItem(folderID)))\n",
    "count = 0\n",
    "\n",
    "for slide in gc.listItem(folderID):\n",
    "    count += 1\n",
    "#     pprint(slide)\n",
    "#     break\n",
    "    LinePrinter(\"Saving image %s of %s\" % (count, numImages))\n",
    "    path = \"/home/raj/Downloads\"\n",
    "    t = saveSVSslide(slide, path)"
   ]
  },
  {
   "cell_type": "code",
   "execution_count": null,
   "metadata": {},
   "outputs": [],
   "source": []
  }
 ],
 "metadata": {
  "kernelspec": {
   "display_name": "DSA Python2",
   "language": "python",
   "name": "dsa"
  },
  "language_info": {
   "codemirror_mode": {
    "name": "ipython",
    "version": 2
   },
   "file_extension": ".py",
   "mimetype": "text/x-python",
   "name": "python",
   "nbconvert_exporter": "python",
   "pygments_lexer": "ipython2",
   "version": "2.7.15"
  }
 },
 "nbformat": 4,
 "nbformat_minor": 2
}
