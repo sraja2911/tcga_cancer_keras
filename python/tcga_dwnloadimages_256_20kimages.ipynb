{
 "cells": [
  {
   "cell_type": "code",
   "execution_count": 1,
   "metadata": {},
   "outputs": [],
   "source": [
    "import sys, os\n",
    "from os.path import join as oj\n",
    "\n",
    "\n",
    "thumbnailURL = \"item/%s/tiles/thumbnail?width=%s\" \n",
    "\n",
    "class LinePrinter():\n",
    "   \"\"\"\n",
    "   Print things to stdout on one line dynamically\n",
    "   \"\"\"\n",
    "   def __init__(self,data):\n",
    "       sys.stdout.write(\"\\r\\x1b[K\"+data.__str__())\n",
    "       sys.stdout.flush()"
   ]
  },
  {
   "cell_type": "code",
   "execution_count": 2,
   "metadata": {},
   "outputs": [],
   "source": [
    "def downloadImageSet( imageSet, downloadDir, girderClient, thumbSize):\n",
    "    imagesDownloaded = 0\n",
    "    gc=girderClient\n",
    "\n",
    "    if not os.path.isdir(downloadDir):\n",
    "        os.makedirs(downloadDir)\n",
    "\n",
    "    for i in imageSet:\n",
    "        ## I am using the tcga.barcode\n",
    "        thumbName = i['tcga']['barcode']+\".macro.\" + str(thumbSize)+\".jpg\"\n",
    "        thumbWpath = oj(downloadDir,thumbName)\n",
    "        imagesDownloaded +=1\n",
    "\n",
    "        if not os.path.isfile(thumbWpath):\n",
    "            curImage = gc.get( thumbnailURL % (i['_id'],thumbSize), jsonResp=False)\n",
    "            with open(thumbWpath,\"wb\") as fp:\n",
    "                fp.write( curImage.content)\n",
    "        LinePrinter(\"Have downloaded a total of %d images\" % imagesDownloaded ) \n",
    "    print"
   ]
  },
  {
   "cell_type": "code",
   "execution_count": 3,
   "metadata": {},
   "outputs": [],
   "source": [
    "### This will download an image set that is specified by a .JSON file\n",
    "import girder_client\n",
    "import os,sys\n",
    "import json\n",
    "from os.path import join as oj"
   ]
  },
  {
   "cell_type": "code",
   "execution_count": 4,
   "metadata": {},
   "outputs": [],
   "source": [
    "useGirderDefaultPaths = True\n",
    "### SURPRISE ME!!!\n",
    "## rootFolder = whatever else it defaults to...\n",
    "\n",
    "imageDataDict = {}  ## This gets the data set definition and links to download the imageData\n",
    "with open(\"TCGA.MultiClass.MacroImageSet_256_20k.json\",\"r\") as fp:\n",
    "    imageDataDict = json.load(fp)\n",
    "\n",
    "### Set Default Parameters\n",
    "thumbSize = 256\n",
    "testSetName  = imageDataDict['meta']['testSetName']\n",
    "startDir = os.path.expanduser('/data/output/results/tcgaImageSet_32class_256_20k')  ### TO DO:  Make this a parmeter"
   ]
  },
  {
   "cell_type": "code",
   "execution_count": 5,
   "metadata": {},
   "outputs": [],
   "source": [
    "## Connect to girder so I can actually download the images..\n",
    "gc = girder_client.GirderClient(apiUrl=imageDataDict['serverAPIUrl'] )"
   ]
  },
  {
   "cell_type": "code",
   "execution_count": 6,
   "metadata": {},
   "outputs": [
    {
     "data": {
      "text/plain": [
       "'http://candygram.neurology.emory.edu:8080/api/v1'"
      ]
     },
     "execution_count": 6,
     "metadata": {},
     "output_type": "execute_result"
    }
   ],
   "source": [
    "imageDataDict['serverAPIUrl']"
   ]
  },
  {
   "cell_type": "code",
   "execution_count": 7,
   "metadata": {},
   "outputs": [],
   "source": [
    "###   Create root directory for this training set\n",
    "#downloadDir = os.path.join(startDir,testSetName,'macro',str(thumbSize))\n",
    "downloadDir = os.path.join(startDir)"
   ]
  },
  {
   "cell_type": "code",
   "execution_count": 8,
   "metadata": {},
   "outputs": [
    {
     "data": {
      "text/plain": [
       "'/data/output/results/tcgaImageSet_32class_256_20k'"
      ]
     },
     "execution_count": 8,
     "metadata": {},
     "output_type": "execute_result"
    }
   ],
   "source": [
    "downloadDir"
   ]
  },
  {
   "cell_type": "code",
   "execution_count": 9,
   "metadata": {},
   "outputs": [
    {
     "name": "stdout",
     "output_type": "stream",
     "text": [
      "coad\n",
      "\u001b[KHave downloaded a total of 1230 imagesTraining Set Downloaded coad\n",
      "\u001b[KHave downloaded a total of 308 imagesTesting Set Downloaded for coad\n",
      "Downloaded validation set for coad\n",
      "sarc\n",
      "\u001b[KHave downloaded a total of 711 imagesTraining Set Downloaded sarc\n",
      "\u001b[KHave downloaded a total of 178 imagesTesting Set Downloaded for sarc\n",
      "Downloaded validation set for sarc\n",
      "kirp\n",
      "\u001b[KHave downloaded a total of 643 imagesTraining Set Downloaded kirp\n",
      "\u001b[KHave downloaded a total of 161 imagesTesting Set Downloaded for kirp\n",
      "Downloaded validation set for kirp\n",
      "lgg\n",
      "\u001b[KHave downloaded a total of 2636 imagesTraining Set Downloaded lgg\n",
      "\u001b[KHave downloaded a total of 660 imagesTesting Set Downloaded for lgg\n",
      "Downloaded validation set for lgg\n",
      "thym\n",
      "\u001b[KHave downloaded a total of 254 imagesTraining Set Downloaded thym\n",
      "\u001b[KHave downloaded a total of 64 imagesTesting Set Downloaded for thym\n",
      "Downloaded validation set for thym\n",
      "thca\n",
      "\u001b[KHave downloaded a total of 998 imagesTraining Set Downloaded thca\n",
      "\u001b[KHave downloaded a total of 250 imagesTesting Set Downloaded for thca\n",
      "Downloaded validation set for thca\n",
      "meso\n",
      "\u001b[KHave downloaded a total of 146 imagesTraining Set Downloaded meso\n",
      "\u001b[KHave downloaded a total of 37 imagesTesting Set Downloaded for meso\n",
      "Downloaded validation set for meso\n",
      "esca\n",
      "\u001b[KHave downloaded a total of 316 imagesTraining Set Downloaded esca\n",
      "\u001b[KHave downloaded a total of 80 imagesTesting Set Downloaded for esca\n",
      "Downloaded validation set for esca\n",
      "read\n",
      "\u001b[KHave downloaded a total of 449 imagesTraining Set Downloaded read\n",
      "\u001b[KHave downloaded a total of 113 imagesTesting Set Downloaded for read\n",
      "Downloaded validation set for read\n",
      "cesc\n",
      "\u001b[KHave downloaded a total of 524 imagesTraining Set Downloaded cesc\n",
      "\u001b[KHave downloaded a total of 132 imagesTesting Set Downloaded for cesc\n",
      "Downloaded validation set for cesc\n",
      "lusc\n",
      "\u001b[KHave downloaded a total of 1358 imagesTraining Set Downloaded lusc\n",
      "\u001b[KHave downloaded a total of 340 imagesTesting Set Downloaded for lusc\n",
      "Downloaded validation set for lusc\n",
      "dlbc\n",
      "\u001b[KHave downloaded a total of 88 imagesTraining Set Downloaded dlbc\n",
      "\u001b[KHave downloaded a total of 22 imagesTesting Set Downloaded for dlbc\n",
      "Downloaded validation set for dlbc\n",
      "kirc\n",
      "\u001b[KHave downloaded a total of 1776 imagesTraining Set Downloaded kirc\n",
      "\u001b[KHave downloaded a total of 445 imagesTesting Set Downloaded for kirc\n",
      "Downloaded validation set for kirc\n",
      "ucs\n",
      "\u001b[KHave downloaded a total of 126 imagesTraining Set Downloaded ucs\n",
      "\u001b[KHave downloaded a total of 32 imagesTesting Set Downloaded for ucs\n",
      "Downloaded validation set for ucs\n",
      "skcm\n",
      "\u001b[KHave downloaded a total of 784 imagesTraining Set Downloaded skcm\n",
      "\u001b[KHave downloaded a total of 196 imagesTesting Set Downloaded for skcm\n",
      "Downloaded validation set for skcm\n",
      "chol\n",
      "\u001b[KHave downloaded a total of 72 imagesTraining Set Downloaded chol\n",
      "\u001b[KHave downloaded a total of 18 imagesTesting Set Downloaded for chol\n",
      "Downloaded validation set for chol\n",
      "hnsc\n",
      "\u001b[KHave downloaded a total of 1080 imagesTraining Set Downloaded hnsc\n",
      "\u001b[KHave downloaded a total of 271 imagesTesting Set Downloaded for hnsc\n",
      "Downloaded validation set for hnsc\n",
      "tgct\n",
      "\u001b[KHave downloaded a total of 328 imagesTraining Set Downloaded tgct\n",
      "\u001b[KHave downloaded a total of 82 imagesTesting Set Downloaded for tgct\n",
      "Downloaded validation set for tgct\n",
      "lihc\n",
      "\u001b[KHave downloaded a total of 752 imagesTraining Set Downloaded lihc\n",
      "\u001b[KHave downloaded a total of 188 imagesTesting Set Downloaded for lihc\n",
      "Downloaded validation set for lihc\n",
      "pcpg\n",
      "\u001b[KHave downloaded a total of 312 imagesTraining Set Downloaded pcpg\n",
      "\u001b[KHave downloaded a total of 79 imagesTesting Set Downloaded for pcpg\n",
      "Downloaded validation set for pcpg\n",
      "paad\n",
      "\u001b[KHave downloaded a total of 395 imagesTraining Set Downloaded paad\n",
      "\u001b[KHave downloaded a total of 99 imagesTesting Set Downloaded for paad\n",
      "Downloaded validation set for paad\n",
      "uvm\n",
      "\u001b[KHave downloaded a total of 125 imagesTraining Set Downloaded uvm\n",
      "\u001b[KHave downloaded a total of 32 imagesTesting Set Downloaded for uvm\n",
      "Downloaded validation set for uvm\n",
      "acc\n",
      "\u001b[KHave downloaded a total of 258 imagesTraining Set Downloaded acc\n",
      "\u001b[KHave downloaded a total of 65 imagesTesting Set Downloaded for acc\n",
      "Downloaded validation set for acc\n",
      "ucec\n",
      "\u001b[KHave downloaded a total of 1232 imagesTraining Set Downloaded ucec\n",
      "\u001b[KHave downloaded a total of 309 imagesTesting Set Downloaded for ucec\n",
      "Downloaded validation set for ucec\n",
      "prad\n",
      "\u001b[KHave downloaded a total of 994 imagesTraining Set Downloaded prad\n",
      "\u001b[KHave downloaded a total of 249 imagesTesting Set Downloaded for prad\n",
      "Downloaded validation set for prad\n",
      "brca\n",
      "\u001b[KHave downloaded a total of 3055 imagesTraining Set Downloaded brca\n",
      "\u001b[KHave downloaded a total of 764 imagesTesting Set Downloaded for brca\n",
      "Downloaded validation set for brca\n",
      "blca\n",
      "\u001b[KHave downloaded a total of 804 imagesTraining Set Downloaded blca\n",
      "\u001b[KHave downloaded a total of 202 imagesTesting Set Downloaded for blca\n",
      "Downloaded validation set for blca\n",
      "gbm\n",
      "\u001b[KHave downloaded a total of 3949 imagesTraining Set Downloaded gbm\n",
      "\u001b[KHave downloaded a total of 988 imagesTesting Set Downloaded for gbm\n",
      "Downloaded validation set for gbm\n",
      "stad\n",
      "\u001b[KHave downloaded a total of 1132 imagesTraining Set Downloaded stad\n",
      "\u001b[KHave downloaded a total of 283 imagesTesting Set Downloaded for stad\n",
      "Downloaded validation set for stad\n",
      "luad\n",
      "\u001b[KHave downloaded a total of 1337 imagesTraining Set Downloaded luad\n",
      "\u001b[KHave downloaded a total of 335 imagesTesting Set Downloaded for luad\n",
      "Downloaded validation set for luad\n",
      "ov\n",
      "\u001b[KHave downloaded a total of 1279 imagesTraining Set Downloaded ov\n",
      "\u001b[KHave downloaded a total of 320 imagesTesting Set Downloaded for ov\n",
      "Downloaded validation set for ov\n",
      "kich\n",
      "\u001b[KHave downloaded a total of 268 imagesTraining Set Downloaded kich\n",
      "\u001b[KHave downloaded a total of 67 imagesTesting Set Downloaded for kich\n",
      "Downloaded validation set for kich\n"
     ]
    }
   ],
   "source": [
    "imagesDownloaded = 0 ### Going to keep a counter for the downloaded images\n",
    "for lbl in imageDataDict['meta']['cohortLabels']:\n",
    "\tprint (lbl)\n",
    "\n",
    "\t## FUTURE VERSIONS... can specift thumbnail size and also macro vs tiles\n",
    "\ttrainingOutputDir = os.path.join(downloadDir,\"train\",lbl)\n",
    "\ttestingOutputDir = os.path.join(downloadDir,\"test\",lbl)\n",
    "\tvalidationOutputDir = os.path.join(downloadDir,\"val\",lbl)\n",
    "\n",
    "\tdownloadImageSet( imageDataDict['trainingSet'][lbl], trainingOutputDir, gc,thumbSize)\n",
    "\tprint (\"Training Set Downloaded %s\" % lbl)\n",
    "\tdownloadImageSet( imageDataDict['testSet'][lbl], testingOutputDir,gc,thumbSize )\n",
    "\tprint (\"Testing Set Downloaded for %s\" % lbl)\n",
    "\tdownloadImageSet( imageDataDict['valSet'][lbl], validationOutputDir,gc,thumbSize )\n",
    "\tprint (\"Downloaded validation set for %s\" % lbl)"
   ]
  },
  {
   "cell_type": "code",
   "execution_count": null,
   "metadata": {},
   "outputs": [],
   "source": []
  }
 ],
 "metadata": {
  "kernelspec": {
   "display_name": "Python 3",
   "language": "python",
   "name": "python3"
  },
  "language_info": {
   "codemirror_mode": {
    "name": "ipython",
    "version": 3
   },
   "file_extension": ".py",
   "mimetype": "text/x-python",
   "name": "python",
   "nbconvert_exporter": "python",
   "pygments_lexer": "ipython3",
   "version": "3.5.2"
  }
 },
 "nbformat": 4,
 "nbformat_minor": 2
}
