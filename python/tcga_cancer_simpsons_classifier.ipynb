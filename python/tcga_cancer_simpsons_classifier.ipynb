{
 "cells": [
  {
   "cell_type": "markdown",
   "metadata": {},
   "source": [
    "# All code from Raj and Dr. Gutman¶\n",
    "# minor FG changes"
   ]
  },
  {
   "cell_type": "code",
   "execution_count": 1,
   "metadata": {},
   "outputs": [
    {
     "name": "stderr",
     "output_type": "stream",
     "text": [
      "Using TensorFlow backend.\n"
     ]
    }
   ],
   "source": [
    "# A multi-class image classifier, based on convolutional neural network using Keras and Tensorflow. \n",
    "# 18 classes\n",
    "# Will emulate the image classification functionlities for Pathology thumbnail images/slides of (WSI-Whole Slide images)\n",
    "# Has implementation code for data manipulating functionalities based on Girder (https://girder.readthedocs.io/en/latest/)\n",
    "# Has 6 convolutions, filtering:64, 128, 256 with flattening to 1024\n",
    "# Keras.ImageDataGenerator for Training/Validation data augmentation\n",
    "# Environment: Keras, TensorFlow, Python-2, GPU-enabled\n",
    "\n",
    "from keras.preprocessing.image import ImageDataGenerator, array_to_img, img_to_array, load_img\n",
    "from keras.preprocessing import image\n",
    "from keras.models import load_model\n",
    "from keras.models import Sequential\n",
    "from keras.layers import Conv2D, MaxPooling2D\n",
    "from keras.layers import Activation, Dropout, Flatten, Dense\n",
    "from keras import backend as K\n",
    "from keras.callbacks import Callback\n",
    "import datetime, time, os, sys\n",
    "import numpy as np\n",
    "import h5py\n",
    "import matplotlib as plt\n",
    "from sklearn.metrics import classification_report, confusion_matrix, precision_recall_fscore_support\n",
    "import pandas as pd\n",
    "\n",
    "import nvidia_smi as nvs"
   ]
  },
  {
   "cell_type": "markdown",
   "metadata": {},
   "source": [
    "# Metadata json: GPU"
   ]
  },
  {
   "cell_type": "code",
   "execution_count": 2,
   "metadata": {},
   "outputs": [],
   "source": [
    "# modelinfo: json to store system metadata:# model \n",
    "modelInfo = {}\n",
    "# GPU/CPU:\n",
    "modelInfo['Device']  = {}\n",
    "\n",
    "# initialize GPU to get detailed info:\n",
    "nvs.nvmlInit()\n",
    "# Driver version:\n",
    "driverVersion = nvs.nvmlSystemGetDriverVersion()\n",
    "# Number of devices:\n",
    "deviceCount = nvs.nvmlDeviceGetCount()\n",
    "# Device Names:\n",
    "deviceNames = []\n",
    "for i in range(deviceCount):\n",
    "    handle = nvs.nvmlDeviceGetHandleByIndex(i)\n",
    "    dvn = nvs.nvmlDeviceGetName(handle) # store the device name\n",
    "    deviceNames.append(dvn)\n",
    "    # e.g. will print:\n",
    "    #  Device 0 : Tesla K40c\n",
    "nvs.nvmlShutdown()\n",
    "# Save GPU metadata to modelInfo\n",
    "modelInfo['Device']['driverVersion']  = driverVersion\n",
    "modelInfo['Device']['deviceNames']  = deviceNames"
   ]
  },
  {
   "cell_type": "markdown",
   "metadata": {},
   "source": [
    "# User Input:¶"
   ]
  },
  {
   "cell_type": "code",
   "execution_count": 3,
   "metadata": {},
   "outputs": [],
   "source": [
    "# Image dimension:\n",
    "img_width, img_height = 64,64\n",
    "# Epochs\n",
    "epochs = 200\n",
    "# Batch size:\n",
    "batch_size = 25\n",
    "\n",
    "# Save model metadata to modelInfo:\n",
    "modelInfo['batch_size'] = batch_size\n",
    "modelInfo['epochs'] = epochs\n",
    "modelInfo['img_width'] = img_width\n",
    "modelInfo['img_height'] = img_height\n",
    " \n",
    "\n",
    "# Training and Validation Images Locations\n",
    "training_dir = '/data/train'\n",
    "test_dir = '/data/test'\n",
    "\n",
    "# Results Location:\n",
    "results_dir =\"/output/results/\""
   ]
  },
  {
   "cell_type": "markdown",
   "metadata": {},
   "source": [
    "# Basic Image Statistics:¶"
   ]
  },
  {
   "cell_type": "code",
   "execution_count": 4,
   "metadata": {},
   "outputs": [],
   "source": [
    "# Count training images:\n",
    "ntraining = 0\n",
    "for root, dirs, files in os.walk(training_dir):\n",
    "    ntraining += len(files)"
   ]
  },
  {
   "cell_type": "markdown",
   "metadata": {},
   "source": [
    "# Getting data format:"
   ]
  },
  {
   "cell_type": "code",
   "execution_count": 5,
   "metadata": {},
   "outputs": [],
   "source": [
    "# get data format:\n",
    "if K.image_data_format() == 'channels_first':\n",
    "    input_shape = (3, img_width, img_height)\n",
    "else:\n",
    "    input_shape = (img_width, img_height, 3)"
   ]
  },
  {
   "cell_type": "markdown",
   "metadata": {},
   "source": [
    "# Data Augmentation:¶"
   ]
  },
  {
   "cell_type": "code",
   "execution_count": 6,
   "metadata": {},
   "outputs": [
    {
     "name": "stdout",
     "output_type": "stream",
     "text": [
      "Found 6057 images belonging to 32 classes.\n",
      "Found 2010 images belonging to 32 classes.\n"
     ]
    }
   ],
   "source": [
    "# Training Data Generator with Augmentation:\n",
    "# -Scale\n",
    "# -Shear\n",
    "# -Zoom\n",
    "# -Height and Width Shift\n",
    "# -Fill: Nearest\n",
    "# -Horizontal Flip\n",
    "train_datagen = ImageDataGenerator(rescale=1./255., shear_range=0.2,zoom_range=0.2, width_shift_range = 0.2,\n",
    "                          height_shift_range = 0.2,fill_mode = 'nearest',   horizontal_flip=True, validation_split=0.25)\n",
    "\n",
    "# Validation Data Generator:\n",
    "# -Scale\n",
    "val_datagen = ImageDataGenerator(rescale=1. / 255. , validation_split=0.25)\n",
    "\n",
    "\n",
    "# Training Data flow from directory:\n",
    "train_generator = train_datagen.flow_from_directory(\n",
    "    training_dir,\n",
    "    target_size=(img_width, img_height),\n",
    "    batch_size=batch_size,\n",
    "    class_mode='categorical',\n",
    "    subset='training')\n",
    "\n",
    "# Validation Data flow from directory:\n",
    "val_generator = val_datagen.flow_from_directory(\n",
    "    training_dir, \n",
    "    target_size=(img_width, img_height),\n",
    "    batch_size=batch_size,\n",
    "    class_mode='categorical',\n",
    "    subset='validation')\n",
    "\n",
    "# Number of Classes/Labels:\n",
    "nLabels = len(val_generator.class_indices)"
   ]
  },
  {
   "cell_type": "markdown",
   "metadata": {},
   "source": [
    "# Model¶"
   ]
  },
  {
   "cell_type": "code",
   "execution_count": 7,
   "metadata": {},
   "outputs": [],
   "source": [
    "# Model\n",
    "# - 6 Convolusional Layers\n",
    "# - RELU Activation\n",
    "# 32 -> 64 -> 256 -> 1024\n",
    "model = Sequential()\n",
    "model.add(Conv2D(32, (3, 3), padding='same', input_shape=input_shape))\n",
    "model.add(Activation('relu'))\n",
    "model.add(Conv2D(32, (3, 3)))\n",
    "model.add(Activation('relu'))\n",
    "model.add(MaxPooling2D(pool_size=(2, 2)))\n",
    "model.add(Dropout(0.2))\n",
    "\n",
    "model.add(Conv2D(64, (3, 3), padding='same'))\n",
    "model.add(Activation('relu'))\n",
    "model.add(Conv2D(64, (3, 3)))\n",
    "model.add(Activation('relu'))\n",
    "model.add(MaxPooling2D(pool_size=(2, 2)))\n",
    "model.add(Dropout(0.2))\n",
    "\n",
    "model.add(Conv2D(256, (3, 3), padding='same')) \n",
    "model.add(Activation('relu'))\n",
    "model.add(Conv2D(256, (3, 3)))\n",
    "model.add(Activation('relu'))\n",
    "model.add(MaxPooling2D(pool_size=(2, 2)))\n",
    "model.add(Dropout(0.2))\n",
    "\n",
    "model.add(Flatten())\n",
    "model.add(Dense(1024))\n",
    "model.add(Activation('relu'))\n",
    "model.add(Dropout(0.5))\n",
    "model.add(Dense(nLabels, activation = 'softmax'))\n",
    "\n",
    "model.compile(loss='categorical_crossentropy',\n",
    "              optimizer='adam',\n",
    "              metrics=['accuracy'])\n",
    "\n",
    "\n",
    "# Captures GPU usage\n",
    "#subprocess.Popen(\"timeout 120 nvidia-smi --query-gpu=utilization.gpu,utilization.memory --format=csv -l 1 | sed s/%//g > /app/results/GPU-stats.log\",shell=True)"
   ]
  },
  {
   "cell_type": "markdown",
   "metadata": {},
   "source": [
    "# TimeHistory: Callback class to get timings¶"
   ]
  },
  {
   "cell_type": "code",
   "execution_count": 8,
   "metadata": {},
   "outputs": [],
   "source": [
    "# Timehistory callback to get epoch run times\n",
    "class TimeHistory(Callback):\n",
    "    def on_train_begin(self, logs={}):\n",
    "        self.times = []\n",
    "\n",
    "    def on_epoch_begin(self, batch, logs={}):\n",
    "        self.epoch_time_start = time.time()\n",
    "\n",
    "    def on_epoch_end(self, batch, logs={}):\n",
    "        self.times.append(time.time() - self.epoch_time_start)\n",
    "\n",
    "time_callback = TimeHistory()"
   ]
  },
  {
   "cell_type": "markdown",
   "metadata": {},
   "source": [
    "# Model Run"
   ]
  },
  {
   "cell_type": "code",
   "execution_count": null,
   "metadata": {},
   "outputs": [
    {
     "name": "stdout",
     "output_type": "stream",
     "text": [
      "Epoch 1/200\n",
      "322/322 [==============================] - 410s 1s/step - loss: 3.2486 - acc: 0.1070 - val_loss: 3.2201 - val_acc: 0.1129\n",
      "Epoch 2/200\n",
      "322/322 [==============================] - 401s 1s/step - loss: 3.2269 - acc: 0.1158 - val_loss: 3.2130 - val_acc: 0.1129\n",
      "Epoch 3/200\n",
      "322/322 [==============================] - 398s 1s/step - loss: 3.2233 - acc: 0.1122 - val_loss: 3.2110 - val_acc: 0.1129\n",
      "Epoch 4/200\n",
      "322/322 [==============================] - 404s 1s/step - loss: 3.2210 - acc: 0.1126 - val_loss: 3.2111 - val_acc: 0.1129\n",
      "Epoch 5/200\n",
      "322/322 [==============================] - 399s 1s/step - loss: 3.2247 - acc: 0.1121 - val_loss: 3.2122 - val_acc: 0.1129\n",
      "Epoch 6/200\n",
      "322/322 [==============================] - 396s 1s/step - loss: 3.2203 - acc: 0.1136 - val_loss: 3.2104 - val_acc: 0.1129\n",
      "Epoch 7/200\n",
      "322/322 [==============================] - 397s 1s/step - loss: 3.2240 - acc: 0.1114 - val_loss: 3.2104 - val_acc: 0.1129\n",
      "Epoch 8/200\n",
      "322/322 [==============================] - 399s 1s/step - loss: 3.2136 - acc: 0.1125 - val_loss: 3.2102 - val_acc: 0.1129\n",
      "Epoch 9/200\n",
      "322/322 [==============================] - 398s 1s/step - loss: 3.2176 - acc: 0.1142 - val_loss: 3.2154 - val_acc: 0.1129\n",
      "Epoch 10/200\n",
      "322/322 [==============================] - 399s 1s/step - loss: 3.2155 - acc: 0.1113 - val_loss: 3.2101 - val_acc: 0.1129\n",
      "Epoch 11/200\n",
      "322/322 [==============================] - 396s 1s/step - loss: 3.2211 - acc: 0.1122 - val_loss: 3.2090 - val_acc: 0.1129\n",
      "Epoch 12/200\n",
      "322/322 [==============================] - 399s 1s/step - loss: 3.2202 - acc: 0.1111 - val_loss: 3.2100 - val_acc: 0.1129\n",
      "Epoch 13/200\n",
      "322/322 [==============================] - 401s 1s/step - loss: 3.2171 - acc: 0.1133 - val_loss: 3.2112 - val_acc: 0.1129\n",
      "Epoch 14/200\n",
      "322/322 [==============================] - 401s 1s/step - loss: 3.2166 - acc: 0.1123 - val_loss: 3.2103 - val_acc: 0.1129\n",
      "Epoch 15/200\n",
      "322/322 [==============================] - 397s 1s/step - loss: 3.2148 - acc: 0.1135 - val_loss: 3.2101 - val_acc: 0.1129\n",
      "Epoch 16/200\n",
      "322/322 [==============================] - 395s 1s/step - loss: 3.2182 - acc: 0.1114 - val_loss: 3.2096 - val_acc: 0.1129\n",
      "Epoch 17/200\n",
      "322/322 [==============================] - 395s 1s/step - loss: 3.2177 - acc: 0.1106 - val_loss: 3.2094 - val_acc: 0.1129\n",
      "Epoch 18/200\n",
      "322/322 [==============================] - 397s 1s/step - loss: 3.2184 - acc: 0.1156 - val_loss: 3.2091 - val_acc: 0.1129\n",
      "Epoch 19/200\n",
      "322/322 [==============================] - 400s 1s/step - loss: 3.2135 - acc: 0.1114 - val_loss: 3.2094 - val_acc: 0.1129\n",
      "Epoch 20/200\n",
      "322/322 [==============================] - 399s 1s/step - loss: 3.2137 - acc: 0.1149 - val_loss: 3.2099 - val_acc: 0.1129\n",
      "Epoch 21/200\n",
      "322/322 [==============================] - 397s 1s/step - loss: 3.2211 - acc: 0.1113 - val_loss: 3.2092 - val_acc: 0.1129\n",
      "Epoch 22/200\n",
      "322/322 [==============================] - 400s 1s/step - loss: 3.2140 - acc: 0.1114 - val_loss: 3.2099 - val_acc: 0.1129\n",
      "Epoch 23/200\n",
      "322/322 [==============================] - 396s 1s/step - loss: 3.2091 - acc: 0.1166 - val_loss: 3.2095 - val_acc: 0.1129\n",
      "Epoch 24/200\n",
      "322/322 [==============================] - 397s 1s/step - loss: 3.2227 - acc: 0.1072 - val_loss: 3.2096 - val_acc: 0.1129\n",
      "Epoch 25/200\n",
      "322/322 [==============================] - 396s 1s/step - loss: 3.2157 - acc: 0.1133 - val_loss: 3.2088 - val_acc: 0.1129\n",
      "Epoch 26/200\n",
      "322/322 [==============================] - 396s 1s/step - loss: 3.2252 - acc: 0.1131 - val_loss: 3.2187 - val_acc: 0.1129\n",
      "Epoch 27/200\n",
      "322/322 [==============================] - 398s 1s/step - loss: 3.2231 - acc: 0.1123 - val_loss: 3.2096 - val_acc: 0.1129\n",
      "Epoch 28/200\n",
      "322/322 [==============================] - 397s 1s/step - loss: 3.2178 - acc: 0.1111 - val_loss: 3.2092 - val_acc: 0.1129\n",
      "Epoch 29/200\n",
      "322/322 [==============================] - 398s 1s/step - loss: 3.2092 - acc: 0.1152 - val_loss: 3.2094 - val_acc: 0.1129\n",
      "Epoch 30/200\n",
      "321/322 [============================>.] - ETA: 0s - loss: 3.2253 - acc: 0.1086"
     ]
    }
   ],
   "source": [
    "# Model fitting and training run\n",
    "simpsonsModel = model.fit_generator(train_generator, steps_per_epoch= ntraining // batch_size, \n",
    "                                    epochs= epochs, validation_data=val_generator, callbacks= [time_callback])\n",
    "\n",
    "print \"Training Finished\""
   ]
  },
  {
   "cell_type": "code",
   "execution_count": null,
   "metadata": {},
   "outputs": [],
   "source": [
    "! mkdir -p /output/results/"
   ]
  },
  {
   "cell_type": "markdown",
   "metadata": {},
   "source": [
    "# Save Run metadata to modelInfo¶"
   ]
  },
  {
   "cell_type": "code",
   "execution_count": null,
   "metadata": {},
   "outputs": [],
   "source": [
    "# Get timestamp:\n",
    "now = datetime.datetime.now()\n",
    "filetime = str(now.year)+str(now.month)+str(now.day)+'_'+str(now.hour)+str(now.minute)\n",
    "\n",
    "# Time per Epoch:\n",
    "modelInfo['epochTimeInfo'] = time_callback.times\n",
    "\n",
    "# Save timestamped model to modelfilename\n",
    "modelfilename=results_dir+'Simpsonsmodel_'+filetime+'.h5'\n",
    "model.save(modelfilename)"
   ]
  },
  {
   "cell_type": "markdown",
   "metadata": {},
   "source": [
    "# Save Run Results to modelInfo:"
   ]
  },
  {
   "cell_type": "code",
   "execution_count": null,
   "metadata": {},
   "outputs": [],
   "source": [
    "# Training and Validation accuracy and loss per epoch\n",
    "modelInfo['historyData'] =  pd.DataFrame(simpsonsModel.history).to_dict(orient='records')\n",
    "\n",
    "###target_names maps the character names (or labels) to the index(integer) used in the output files\n",
    "modelInfo['target_names']  = val_generator.class_indices\n",
    "\n",
    "modelInfo['labelname_to_index']  = val_generator.class_indices\n",
    "modelInfo['index_to_labelname']  = {(v,k) for k,v in val_generator.class_indices.iteritems() }"
   ]
  },
  {
   "cell_type": "markdown",
   "metadata": {},
   "source": [
    "# Run Model on Test Images:"
   ]
  },
  {
   "cell_type": "code",
   "execution_count": null,
   "metadata": {},
   "outputs": [],
   "source": [
    "# Get number of Testing Images\n",
    "nTest = 0\n",
    "for root, dirs, files in os.walk(test_dir):\n",
    "    nTest += len(files)"
   ]
  },
  {
   "cell_type": "code",
   "execution_count": null,
   "metadata": {},
   "outputs": [],
   "source": [
    "# Testing Data Generator:\n",
    "test_datagen = ImageDataGenerator(rescale=1. /255.)\n",
    "testing_generator_noShuffle = test_datagen.flow_from_directory(\n",
    "    test_dir,\n",
    "    target_size=(img_width, img_height),\n",
    "    batch_size=batch_size,\n",
    "    shuffle=False,\n",
    "    class_mode='categorical')"
   ]
  },
  {
   "cell_type": "code",
   "execution_count": null,
   "metadata": {},
   "outputs": [],
   "source": [
    "# predict_Validation: narray\n",
    "# row= image\n",
    "# column= probability of falling within label matching column_index\n",
    "predict_Testing = model.predict_generator(testing_generator_noShuffle)"
   ]
  },
  {
   "cell_type": "code",
   "execution_count": null,
   "metadata": {},
   "outputs": [],
   "source": [
    "# Best Prediction for all labels: I don't know why we are calculating this (FG)\n",
    "best_prediction_per_label= [ max( predict_Testing[:,j] ) for j in range( predict_Testing.shape[1] ) ]"
   ]
  },
  {
   "cell_type": "markdown",
   "metadata": {},
   "source": [
    "# Predicted label for each image:"
   ]
  },
  {
   "cell_type": "code",
   "execution_count": null,
   "metadata": {},
   "outputs": [],
   "source": [
    "predicted_labels= []\n",
    "# Find highest probability in prediction list for each image\n",
    "for i in predict_Testing:\n",
    "    i= list(i)\n",
    "    max_value = max(i) \n",
    "    predicted_labels.append( i.index(max_value) )"
   ]
  },
  {
   "cell_type": "markdown",
   "metadata": {},
   "source": [
    "# Confusion Matrix generation"
   ]
  },
  {
   "cell_type": "code",
   "execution_count": null,
   "metadata": {},
   "outputs": [],
   "source": [
    "modelInfo['confusion_matrix'] = confusion_matrix(testing_generator_noShuffle.classes, predicted_labels)"
   ]
  },
  {
   "cell_type": "code",
   "execution_count": null,
   "metadata": {},
   "outputs": [],
   "source": [
    "modelInfo['confusion_matrix']"
   ]
  },
  {
   "cell_type": "markdown",
   "metadata": {},
   "source": [
    "# Confusion Matrix in a Plot"
   ]
  },
  {
   "cell_type": "code",
   "execution_count": null,
   "metadata": {},
   "outputs": [],
   "source": [
    "import matplotlib.pyplot as pyplot\n",
    "pyplot.figure\n",
    "#target_names = val_generator.class_indices\n",
    "target_names = testing_generator_noShuffle.class_indices\n",
    "pyplot.figure(figsize=(10,10))\n",
    "cnf_matrix = confusion_matrix(testing_generator_noShuffle.classes, predicted_labels)\n",
    "classes = list(target_names)\n",
    "pyplot.imshow(cnf_matrix, interpolation='nearest')\n",
    "pyplot.colorbar()\n",
    "tick_marks = np.arange(len(classes))  \n",
    "_ = pyplot.xticks(tick_marks, classes, rotation=90)\n",
    "_ = pyplot.yticks(tick_marks, classes)\n",
    "plotopt= results_dir + 'SimpsonsModelImage_'+filetime+'.png'\n",
    "pyplot.savefig(plotopt)"
   ]
  },
  {
   "cell_type": "code",
   "execution_count": null,
   "metadata": {},
   "outputs": [],
   "source": [
    "cls_rpt = classification_report(testing_generator_noShuffle.classes, predicted_labels, target_names= testing_generator_noShuffle.class_indices)"
   ]
  },
  {
   "cell_type": "code",
   "execution_count": null,
   "metadata": {},
   "outputs": [],
   "source": [
    "print(cls_rpt)"
   ]
  },
  {
   "cell_type": "markdown",
   "metadata": {},
   "source": [
    "# Turning into classification report into classification object"
   ]
  },
  {
   "cell_type": "code",
   "execution_count": null,
   "metadata": {},
   "outputs": [],
   "source": [
    "avgresults = cls_rpt.strip().split('\\n')[-1].split()"
   ]
  },
  {
   "cell_type": "code",
   "execution_count": null,
   "metadata": {},
   "outputs": [],
   "source": [
    "overallResults={'label' : 'avg/total', 'precision': avgresults[3], 'recall':avgresults[4],'f1-score':avgresults[5], 'support':avgresults[6]}"
   ]
  },
  {
   "cell_type": "code",
   "execution_count": null,
   "metadata": {},
   "outputs": [],
   "source": [
    "precision, recall, fscore, support  =  precision_recall_fscore_support(testing_generator_noShuffle.classes, predicted_labels)"
   ]
  },
  {
   "cell_type": "code",
   "execution_count": null,
   "metadata": {},
   "outputs": [],
   "source": [
    "modelInfo['classificationObject'] =  characterResultsArray =  {\n",
    "    'label':val_generator.class_indices.keys(),\n",
    "    'precision': precision,\n",
    "    'recall':recall,\n",
    "    'fscore': fscore, 'support':support,\n",
    "    'overallResults':{'label' : 'avg/total', \n",
    "                      'precision': avgresults[3], \n",
    "                      'recall':avgresults[4],\n",
    "                      'f1-score':avgresults[5],\n",
    "                      'support':avgresults[6]}}"
   ]
  },
  {
   "cell_type": "code",
   "execution_count": null,
   "metadata": {},
   "outputs": [],
   "source": [
    "modelInfo['classificationObject']"
   ]
  },
  {
   "cell_type": "markdown",
   "metadata": {},
   "source": [
    "# Create Prediction object for each test image with filename, actual image label, Folder"
   ]
  },
  {
   "cell_type": "code",
   "execution_count": null,
   "metadata": {},
   "outputs": [],
   "source": [
    "import glob\n",
    "import os\n",
    "import keras.preprocessing.image as Kimg\n",
    "\n",
    "modelInfo['imgprediction'] = []\n",
    "\n",
    "model=load_model(modelfilename)\n",
    "\n",
    "for fld in os.listdir('/data/test/'): \n",
    "    trueLabel = fld\n",
    "    for img in os.listdir('/data/test/%s/' %trueLabel): \n",
    "        imgPath = \"/data/test/%s/%s\" % (fld, img)\n",
    "        x = Kimg.load_img(imgPath, target_size=(64,64))\n",
    "        x = Kimg.img_to_array(x)\n",
    "        x = x.reshape((1,) + x.shape)\n",
    "        x = x/255.\n",
    "        pr=model.predict(x)\n",
    "        curr = {'filename': img, 'actualImageLabel': fld, 'modelprediction':pr} \n",
    "        modelInfo['imgprediction'].append(curr) "
   ]
  },
  {
   "cell_type": "code",
   "execution_count": null,
   "metadata": {},
   "outputs": [],
   "source": [
    "modelInfo['imgprediction']"
   ]
  },
  {
   "cell_type": "markdown",
   "metadata": {},
   "source": [
    "# Generates Top3 Predicted images for each individual image in the \"test folder\" only"
   ]
  },
  {
   "cell_type": "code",
   "execution_count": null,
   "metadata": {},
   "outputs": [],
   "source": [
    "from PIL import Image\n",
    "import matplotlib.pyplot as pyplot\n",
    "rows = 2\n",
    "cols = 2\n",
    "#img_width, img_height = 64,64\n",
    "pyplot.figure()\n",
    "pyplot.show()\n",
    "fig, ax = pyplot.subplots(rows, cols, frameon=False, figsize=(5, 5))\n",
    "fig.suptitle('Prediction Images', fontsize=10, y = 1.03)\n",
    "count=0\n",
    "\n",
    "modelInfo['imgprediction'] = []\n",
    "\n",
    "model=load_model(modelfilename)\n",
    "\n",
    "for fld in os.listdir('/data/test/'): \n",
    "    trueLabel = fld          \n",
    "    for imgname in os.listdir('/data/test/%s/' %trueLabel): \n",
    "        for i in range(rows):\n",
    "            for j in range(cols):\n",
    "                imgPath = \"/data/test/%s/%s\" % (fld, imgname)                \n",
    "                img = Image.open(imgPath)\n",
    "                img = img.resize((img_width, img_height), Image.ANTIALIAS)\n",
    "                ax[i][j].imshow(img)\n",
    "                img = img_to_array(img)\n",
    "                img = img/255.0\n",
    "                img = img.reshape((1,) + img.shape)\n",
    "                pr = model.predict(img, batch_size= 1)                \n",
    "                curr = {'filename': img, 'actualImageLabel': fld, 'modelprediction':pr} \n",
    "                modelInfo['imgprediction'].append(curr)                \n",
    "                # To show image with top 3 predicted images\n",
    "                pred = pd.DataFrame(np.transpose(np.round(pr, decimals = 3)))\n",
    "                pred = pred.nlargest(n = 3, columns = 0) \n",
    "                pred['char'] = [list(modelInfo['labelname_to_index'].keys())[list(modelInfo['labelname_to_index'].values()).index(x)] for x in pred.index]\n",
    "                charstr = ''\n",
    "                for k in range(0,3):\n",
    "                    if k < 2:\n",
    "                        charstr = charstr+str(pred.iloc[k,1])+': '+str(pred.iloc[k,0])+'\\n'\n",
    "                    else:\n",
    "                        charstr = charstr+str(pred.iloc[k,1])+': '+str(pred.iloc[k,0])                \n",
    "                ec = (0, .8, .1)\n",
    "                fc = (0, .9, .2)\n",
    "                count = count + 1\n",
    "                ax[i][j].text(0, -10, charstr, size=10, rotation=0,\n",
    "                      ha=\"left\", va=\"top\", \n",
    "                      bbox=dict(boxstyle=\"round\", ec=ec, fc=fc, alpha = 0.7))\n",
    "                pyplot.setp(ax, xticks=[], yticks=[])\n",
    "                pyplot.tight_layout(rect=[0, 0.14, 1, 0.95])\n",
    "                pyplot.savefig('/data/code/results/prediction_'+ str(imgname) + '.png')"
   ]
  },
  {
   "cell_type": "code",
   "execution_count": null,
   "metadata": {},
   "outputs": [],
   "source": []
  },
  {
   "cell_type": "code",
   "execution_count": null,
   "metadata": {},
   "outputs": [],
   "source": []
  }
 ],
 "metadata": {
  "kernelspec": {
   "display_name": "Python 2",
   "language": "python",
   "name": "python2"
  },
  "language_info": {
   "codemirror_mode": {
    "name": "ipython",
    "version": 2
   },
   "file_extension": ".py",
   "mimetype": "text/x-python",
   "name": "python",
   "nbconvert_exporter": "python",
   "pygments_lexer": "ipython2",
   "version": "2.7.12"
  }
 },
 "nbformat": 4,
 "nbformat_minor": 2
}
