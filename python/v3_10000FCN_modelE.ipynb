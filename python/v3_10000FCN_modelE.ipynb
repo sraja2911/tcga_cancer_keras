{
 "cells": [
  {
   "cell_type": "code",
   "execution_count": 1,
   "metadata": {},
   "outputs": [
    {
     "name": "stderr",
     "output_type": "stream",
     "text": [
      "Using TensorFlow backend.\n",
      "/usr/local/lib/python3.5/dist-packages/sklearn/cross_validation.py:41: DeprecationWarning: This module was deprecated in version 0.18 in favor of the model_selection module into which all the refactored classes and functions are moved. Also note that the interface of the new CV iterators are different from that of this module. This module will be removed in 0.20.\n",
      "  \"This module will be removed in 0.20.\", DeprecationWarning)\n"
     ]
    }
   ],
   "source": [
    "# A multi classes image classifier, based on convolutional neural network using Keras and Tensorflow. \n",
    "# A multi-label classifier (having one fully-connected layer at the end), with multi-classification (32 classes, in this instance)\n",
    "# Largely copied from the code https://github.com/kallooa/MSDA_Capstone_Final/tree/master/3_Model_Training/Tile_Level_Model_Training\n",
    "# classifying 32 cancer types (thumbnail images of WSI slides) downloaded from digitalslidearchive.emory.edu\n",
    "# Will implement/include data manipulating functionalities based on Girder (https://girder.readthedocs.io/en/latest/)\n",
    "# Used Keras.ImageDataGenerator for Training/Validation data augmentation and the augmented images are flown from respective directory\n",
    "# Environment: A docker container having Keras, TensorFlow, Python-2 with GPU based execution\n",
    "\n",
    "from keras.preprocessing.image import ImageDataGenerator, array_to_img, img_to_array, load_img\n",
    "from keras.preprocessing import image\n",
    "from keras.models import Model, load_model\n",
    "from keras.models import Sequential\n",
    "from keras.layers import Conv2D, MaxPooling2D, GlobalAveragePooling2D, Convolution2D\n",
    "from keras.layers import Activation, Dropout, Flatten, Dense\n",
    "from keras import backend as K\n",
    "from keras.callbacks import Callback\n",
    "from keras.optimizers import adagrad, adadelta, rmsprop, adam\n",
    "from keras.utils import np_utils\n",
    "from keras.regularizers import l2\n",
    "from sklearn.cross_validation import StratifiedKFold\n",
    "from keras.applications.inception_v3 import InceptionV3\n",
    "from keras.preprocessing import image\n",
    "import datetime, time, os, sys\n",
    "import numpy as np\n",
    "import h5py\n",
    "import matplotlib as plt\n",
    "from sklearn.metrics import classification_report, confusion_matrix, precision_recall_fscore_support\n",
    "import pandas as pd\n",
    "\n",
    "#import nvidia_smi as nvs - Python 2 version\n",
    "import pynvml as nvs\n",
    "sys.setrecursionlimit(10000)"
   ]
  },
  {
   "cell_type": "code",
   "execution_count": null,
   "metadata": {},
   "outputs": [],
   "source": [
    "!pip install nvidia-ml-py3 --user"
   ]
  },
  {
   "cell_type": "markdown",
   "metadata": {},
   "source": [
    "# Metadata json: GPU"
   ]
  },
  {
   "cell_type": "code",
   "execution_count": 2,
   "metadata": {},
   "outputs": [],
   "source": [
    "# modelinfo: json to store system metadata:# model \n",
    "modelInfo = {}\n",
    "# GPU/CPU:\n",
    "modelInfo['Device']  = {}\n",
    "\n",
    "# initialize GPU to get detailed info:\n",
    "nvs.nvmlInit()\n",
    "# Driver version:\n",
    "driverVersion = nvs.nvmlSystemGetDriverVersion()\n",
    "# Number of devices:\n",
    "deviceCount = nvs.nvmlDeviceGetCount()\n",
    "# Device Names:\n",
    "deviceNames = []\n",
    "for i in range(deviceCount):\n",
    "    handle = nvs.nvmlDeviceGetHandleByIndex(i)\n",
    "    dvn = nvs.nvmlDeviceGetName(handle) # store the device name\n",
    "    deviceNames.append(dvn)\n",
    "    # e.g. will print:\n",
    "    #  Device 0 : Tesla K40c\n",
    "nvs.nvmlShutdown()\n",
    "# Save GPU metadata to modelInfo\n",
    "modelInfo['Device']['driverVersion']  = driverVersion\n",
    "modelInfo['Device']['deviceNames']  = deviceNames"
   ]
  },
  {
   "cell_type": "markdown",
   "metadata": {},
   "source": [
    "# User Input:¶"
   ]
  },
  {
   "cell_type": "code",
   "execution_count": 3,
   "metadata": {},
   "outputs": [],
   "source": [
    "# Image dimension:\n",
    "img_width, img_height = 150,150\n",
    "# Epochs\n",
    "epochs = 100\n",
    "# Batch size:\n",
    "batch_size = 5\n",
    "colormode =\"rgb\"\n",
    "channels=3\n",
    "\n",
    "# Save model metadata to modelInfo:\n",
    "modelInfo['batch_size'] = batch_size\n",
    "modelInfo['epochs'] = epochs\n",
    "modelInfo['img_width'] = img_width\n",
    "modelInfo['img_height'] = img_height\n",
    " \n",
    "\n",
    "# Training and Validation Images Locations\n",
    "training_dir = '/data/train'\n",
    "test_dir = '/data/test'\n",
    "\n",
    "# Results Location:\n",
    "results_dir =\"/output/results/\""
   ]
  },
  {
   "cell_type": "markdown",
   "metadata": {},
   "source": [
    "# Basic Image Statistics:¶"
   ]
  },
  {
   "cell_type": "code",
   "execution_count": 4,
   "metadata": {},
   "outputs": [],
   "source": [
    "# Count training images:\n",
    "ntraining = 0\n",
    "for root, dirs, files in os.walk(training_dir):\n",
    "    ntraining += len(files)"
   ]
  },
  {
   "cell_type": "markdown",
   "metadata": {},
   "source": [
    "# Getting data format:"
   ]
  },
  {
   "cell_type": "code",
   "execution_count": 5,
   "metadata": {},
   "outputs": [],
   "source": [
    "# get data format:\n",
    "if K.image_data_format() == 'channels_first':\n",
    "    input_shape = (3, img_width, img_height)\n",
    "else:\n",
    "    input_shape = (img_width, img_height, 3)"
   ]
  },
  {
   "cell_type": "markdown",
   "metadata": {},
   "source": [
    "# Data Augmentation:¶"
   ]
  },
  {
   "cell_type": "code",
   "execution_count": 6,
   "metadata": {},
   "outputs": [
    {
     "name": "stdout",
     "output_type": "stream",
     "text": [
      "Found 1708 images belonging to 4 classes.\n",
      "Found 425 images belonging to 4 classes.\n"
     ]
    }
   ],
   "source": [
    "# Training Data Generator with Augmentation:\n",
    "# -Scale\n",
    "# -Shear\n",
    "# -Zoom\n",
    "# -Height and Width Shift\n",
    "# -Fill: Nearest\n",
    "# -Horizontal Flip\n",
    "\n",
    "train_datagen = ImageDataGenerator(vertical_flip=True, horizontal_flip=True, validation_split=0.2)\n",
    "\n",
    "# Validation Data Generator:\n",
    "# -Scale\n",
    "val_datagen = ImageDataGenerator(validation_split=0.2)\n",
    "\n",
    "\n",
    "\n",
    "# Training Data flow from directory:\n",
    "train_generator = train_datagen.flow_from_directory(\n",
    "    training_dir,\n",
    "    target_size=(150,150),\n",
    "    batch_size=batch_size,\n",
    "    color_mode=colormode,\n",
    "    subset='training')\n",
    "\n",
    "# Validation Data flow from directory:\n",
    "val_generator = val_datagen.flow_from_directory(\n",
    "    training_dir, \n",
    "    target_size=(150,150),\n",
    "    batch_size=batch_size,\n",
    "    color_mode=colormode,\n",
    "    subset='validation')\n",
    "\n",
    "# Number of Classes/Labels:\n",
    "nLabels = len(val_generator.class_indices)"
   ]
  },
  {
   "cell_type": "markdown",
   "metadata": {},
   "source": [
    "# Model¶"
   ]
  },
  {
   "cell_type": "code",
   "execution_count": 7,
   "metadata": {},
   "outputs": [],
   "source": [
    " # create the base pre-trained model\n",
    "base_model = InceptionV3(weights='imagenet', include_top=False)\n",
    "# add a global spatial average pooling layer\n",
    "x = base_model.output\n",
    "x = GlobalAveragePooling2D()(x)\n",
    "# let's add a fully-connected layer\n",
    "x = Dense(10000, activation='relu')(x)\n",
    "# and a logistic layer\n",
    "predictions = Dense(nLabels, activation='softmax')(x)\n",
    "\n",
    "# this is the model we will train\n",
    "model = Model(inputs=base_model.input, outputs=predictions)\n",
    "\n",
    "# first: train only the top layers (which were randomly initialized)\n",
    "# i.e. freeze all convolutional InceptionV3 layers\n",
    "for layer in base_model.layers:\n",
    "    layer.trainable = True\n",
    "\n",
    "for layer in model.layers:\n",
    "    layer.trainable = True\n",
    "\n",
    "# ompile the model (should be done *after* setting layers to non-trainable)\n",
    "# create model with for binary output with the adam optimization algorithm\n",
    "model.compile(optimizer='adadelta', loss='categorical_crossentropy',  metrics=['accuracy'])"
   ]
  },
  {
   "cell_type": "markdown",
   "metadata": {},
   "source": [
    "# TimeHistory: Callback class to get timings¶"
   ]
  },
  {
   "cell_type": "code",
   "execution_count": 8,
   "metadata": {},
   "outputs": [],
   "source": [
    "# Timehistory callback to get epoch run times\n",
    "class TimeHistory(Callback):\n",
    "    def on_train_begin(self, logs={}):\n",
    "        self.times = []\n",
    "\n",
    "    def on_epoch_begin(self, batch, logs={}):\n",
    "        self.epoch_time_start = time.time()\n",
    "\n",
    "    def on_epoch_end(self, batch, logs={}):\n",
    "        self.times.append(time.time() - self.epoch_time_start)\n",
    "\n",
    "time_callback = TimeHistory()"
   ]
  },
  {
   "cell_type": "markdown",
   "metadata": {},
   "source": [
    "# Model Run"
   ]
  },
  {
   "cell_type": "code",
   "execution_count": 9,
   "metadata": {},
   "outputs": [
    {
     "name": "stdout",
     "output_type": "stream",
     "text": [
      "Epoch 1/100\n",
      "2133/2133 [==============================] - 393s 184ms/step - loss: 1.2753 - acc: 0.5386 - val_loss: 0.9150 - val_acc: 0.6306\n",
      "Epoch 2/100\n",
      "2133/2133 [==============================] - 359s 168ms/step - loss: 0.8405 - acc: 0.6463 - val_loss: 1.2614 - val_acc: 0.5600\n",
      "Epoch 3/100\n",
      "2133/2133 [==============================] - 350s 164ms/step - loss: 0.7530 - acc: 0.6927 - val_loss: 1.5253 - val_acc: 0.5812\n",
      "Epoch 4/100\n",
      "2133/2133 [==============================] - 350s 164ms/step - loss: 0.6967 - acc: 0.7172 - val_loss: 1.1396 - val_acc: 0.5906\n",
      "Epoch 5/100\n",
      "2133/2133 [==============================] - 350s 164ms/step - loss: 0.6252 - acc: 0.7493 - val_loss: 0.9777 - val_acc: 0.6259\n",
      "Epoch 6/100\n",
      "2133/2133 [==============================] - 349s 164ms/step - loss: 0.5601 - acc: 0.7825 - val_loss: 1.0223 - val_acc: 0.6753\n",
      "Epoch 7/100\n",
      "2133/2133 [==============================] - 350s 164ms/step - loss: 0.5234 - acc: 0.7959 - val_loss: 1.3781 - val_acc: 0.4541\n",
      "Epoch 8/100\n",
      "2133/2133 [==============================] - 349s 164ms/step - loss: 0.4945 - acc: 0.8085 - val_loss: 1.1111 - val_acc: 0.6753\n",
      "Epoch 9/100\n",
      "2133/2133 [==============================] - 349s 164ms/step - loss: 0.4722 - acc: 0.8209 - val_loss: 1.8293 - val_acc: 0.6165\n",
      "Epoch 10/100\n",
      "2133/2133 [==============================] - 349s 164ms/step - loss: 0.4240 - acc: 0.8384 - val_loss: 1.1823 - val_acc: 0.6541\n",
      "Epoch 11/100\n",
      "2133/2133 [==============================] - 349s 164ms/step - loss: 0.3999 - acc: 0.8495 - val_loss: 1.4699 - val_acc: 0.6659\n",
      "Epoch 12/100\n",
      "2133/2133 [==============================] - 349s 164ms/step - loss: 0.3912 - acc: 0.8563 - val_loss: 1.0216 - val_acc: 0.6729\n",
      "Epoch 13/100\n",
      "2133/2133 [==============================] - 350s 164ms/step - loss: 0.3465 - acc: 0.8709 - val_loss: 1.1581 - val_acc: 0.6776\n",
      "Epoch 14/100\n",
      "2133/2133 [==============================] - 349s 164ms/step - loss: 0.3318 - acc: 0.8789 - val_loss: 1.4359 - val_acc: 0.6000\n",
      "Epoch 15/100\n",
      "2133/2133 [==============================] - 349s 164ms/step - loss: 0.2935 - acc: 0.8932 - val_loss: 2.0807 - val_acc: 0.5671\n",
      "Epoch 16/100\n",
      "2133/2133 [==============================] - 350s 164ms/step - loss: 0.3199 - acc: 0.8842 - val_loss: 2.1204 - val_acc: 0.3647\n",
      "Epoch 17/100\n",
      "2133/2133 [==============================] - 350s 164ms/step - loss: 0.2823 - acc: 0.8985 - val_loss: 1.6357 - val_acc: 0.6306\n",
      "Epoch 18/100\n",
      "2133/2133 [==============================] - 350s 164ms/step - loss: 0.2374 - acc: 0.9125 - val_loss: 2.1203 - val_acc: 0.6047\n",
      "Epoch 19/100\n",
      "2133/2133 [==============================] - 350s 164ms/step - loss: 0.2347 - acc: 0.9164 - val_loss: 1.2023 - val_acc: 0.6776\n",
      "Epoch 20/100\n",
      "2133/2133 [==============================] - 350s 164ms/step - loss: 0.1948 - acc: 0.9325 - val_loss: 1.6931 - val_acc: 0.6753\n",
      "Epoch 21/100\n",
      "2133/2133 [==============================] - 350s 164ms/step - loss: 0.1765 - acc: 0.9396 - val_loss: 2.0490 - val_acc: 0.6047\n",
      "Epoch 22/100\n",
      "2133/2133 [==============================] - 350s 164ms/step - loss: 0.1459 - acc: 0.9497 - val_loss: 1.9448 - val_acc: 0.6212\n",
      "Epoch 23/100\n",
      "2133/2133 [==============================] - 350s 164ms/step - loss: 0.1578 - acc: 0.9483 - val_loss: 2.5315 - val_acc: 0.6518\n",
      "Epoch 24/100\n",
      "2133/2133 [==============================] - 350s 164ms/step - loss: 0.1402 - acc: 0.9524 - val_loss: 4.0010 - val_acc: 0.6141\n",
      "Epoch 25/100\n",
      "2133/2133 [==============================] - 350s 164ms/step - loss: 0.1214 - acc: 0.9610 - val_loss: 2.2988 - val_acc: 0.6565\n",
      "Epoch 26/100\n",
      "2133/2133 [==============================] - 351s 165ms/step - loss: 0.1188 - acc: 0.9618 - val_loss: 2.4243 - val_acc: 0.5929\n",
      "Epoch 27/100\n",
      "2133/2133 [==============================] - 351s 165ms/step - loss: 0.0982 - acc: 0.9679 - val_loss: 2.1958 - val_acc: 0.6682\n",
      "Epoch 28/100\n",
      "2133/2133 [==============================] - 351s 165ms/step - loss: 0.1082 - acc: 0.9656 - val_loss: 1.7811 - val_acc: 0.6635\n",
      "Epoch 29/100\n",
      "2133/2133 [==============================] - 352s 165ms/step - loss: 0.1041 - acc: 0.9676 - val_loss: 2.4827 - val_acc: 0.6306\n",
      "Epoch 30/100\n",
      "2133/2133 [==============================] - 351s 165ms/step - loss: 0.0854 - acc: 0.9719 - val_loss: 1.9833 - val_acc: 0.7129\n",
      "Epoch 31/100\n",
      "2133/2133 [==============================] - 352s 165ms/step - loss: 0.0977 - acc: 0.9684 - val_loss: 1.8277 - val_acc: 0.6400\n",
      "Epoch 32/100\n",
      "2133/2133 [==============================] - 351s 165ms/step - loss: 0.0921 - acc: 0.9705 - val_loss: 2.5176 - val_acc: 0.6659\n",
      "Epoch 33/100\n",
      "2133/2133 [==============================] - 351s 165ms/step - loss: 0.0926 - acc: 0.9708 - val_loss: 4.5940 - val_acc: 0.5082\n",
      "Epoch 34/100\n",
      "2133/2133 [==============================] - 352s 165ms/step - loss: 0.0772 - acc: 0.9758 - val_loss: 3.0483 - val_acc: 0.6282\n",
      "Epoch 35/100\n",
      "2133/2133 [==============================] - 351s 165ms/step - loss: 0.0840 - acc: 0.9722 - val_loss: 3.1093 - val_acc: 0.5929\n",
      "Epoch 36/100\n",
      "2133/2133 [==============================] - 352s 165ms/step - loss: 0.0785 - acc: 0.9763 - val_loss: 2.4344 - val_acc: 0.6706\n",
      "Epoch 37/100\n",
      "2133/2133 [==============================] - 352s 165ms/step - loss: 0.0829 - acc: 0.9763 - val_loss: 2.3280 - val_acc: 0.6400\n",
      "Epoch 38/100\n",
      "2133/2133 [==============================] - 352s 165ms/step - loss: 0.0611 - acc: 0.9816 - val_loss: 2.3012 - val_acc: 0.6235\n",
      "Epoch 39/100\n",
      "2133/2133 [==============================] - 352s 165ms/step - loss: 0.0614 - acc: 0.9826 - val_loss: 3.4923 - val_acc: 0.6118\n",
      "Epoch 40/100\n",
      "2133/2133 [==============================] - 351s 164ms/step - loss: 0.0655 - acc: 0.9804 - val_loss: 2.0593 - val_acc: 0.6871\n",
      "Epoch 41/100\n",
      "2133/2133 [==============================] - 352s 165ms/step - loss: 0.0585 - acc: 0.9826 - val_loss: 3.4653 - val_acc: 0.5953\n",
      "Epoch 42/100\n",
      "2133/2133 [==============================] - 351s 165ms/step - loss: 0.0732 - acc: 0.9783 - val_loss: 2.2408 - val_acc: 0.7059\n",
      "Epoch 43/100\n",
      "2133/2133 [==============================] - 352s 165ms/step - loss: 0.0484 - acc: 0.9872 - val_loss: 2.8441 - val_acc: 0.6329\n",
      "Epoch 44/100\n",
      "2133/2133 [==============================] - 351s 165ms/step - loss: 0.0593 - acc: 0.9823 - val_loss: 1.8636 - val_acc: 0.6871\n",
      "Epoch 45/100\n",
      "2133/2133 [==============================] - 351s 165ms/step - loss: 0.0498 - acc: 0.9864 - val_loss: 2.7536 - val_acc: 0.6494\n",
      "Epoch 46/100\n",
      "2133/2133 [==============================] - 351s 165ms/step - loss: 0.0585 - acc: 0.9821 - val_loss: 2.0052 - val_acc: 0.6918\n",
      "Epoch 47/100\n",
      "2133/2133 [==============================] - 351s 165ms/step - loss: 0.0543 - acc: 0.9834 - val_loss: 2.4544 - val_acc: 0.6776\n",
      "Epoch 48/100\n",
      "2133/2133 [==============================] - 351s 165ms/step - loss: 0.0554 - acc: 0.9848 - val_loss: 2.1640 - val_acc: 0.6541\n",
      "Epoch 49/100\n",
      "2133/2133 [==============================] - 351s 165ms/step - loss: 0.0356 - acc: 0.9901 - val_loss: 2.7047 - val_acc: 0.6400\n",
      "Epoch 50/100\n",
      "2133/2133 [==============================] - 351s 165ms/step - loss: 0.0406 - acc: 0.9879 - val_loss: 2.0818 - val_acc: 0.6800\n",
      "Epoch 51/100\n",
      "2133/2133 [==============================] - 351s 165ms/step - loss: 0.0382 - acc: 0.9895 - val_loss: 3.0086 - val_acc: 0.6376\n",
      "Epoch 52/100\n",
      "2133/2133 [==============================] - 351s 165ms/step - loss: 0.0386 - acc: 0.9887 - val_loss: 3.0660 - val_acc: 0.6729\n",
      "Epoch 53/100\n",
      "2133/2133 [==============================] - 351s 164ms/step - loss: 0.0326 - acc: 0.9910 - val_loss: 3.1548 - val_acc: 0.6400\n",
      "Epoch 54/100\n",
      "2133/2133 [==============================] - 350s 164ms/step - loss: 0.0404 - acc: 0.9882 - val_loss: 2.3745 - val_acc: 0.6729\n",
      "Epoch 55/100\n",
      "2133/2133 [==============================] - 350s 164ms/step - loss: 0.0335 - acc: 0.9909 - val_loss: 3.2313 - val_acc: 0.6235\n",
      "Epoch 56/100\n",
      "2133/2133 [==============================] - 351s 164ms/step - loss: 0.0370 - acc: 0.9899 - val_loss: 2.5153 - val_acc: 0.6635\n",
      "Epoch 57/100\n",
      "2133/2133 [==============================] - 351s 164ms/step - loss: 0.0333 - acc: 0.9910 - val_loss: 2.4488 - val_acc: 0.7012\n",
      "Epoch 58/100\n",
      "2133/2133 [==============================] - 351s 164ms/step - loss: 0.0329 - acc: 0.9913 - val_loss: 2.9600 - val_acc: 0.6565\n",
      "Epoch 59/100\n"
     ]
    },
    {
     "name": "stdout",
     "output_type": "stream",
     "text": [
      "2133/2133 [==============================] - 351s 164ms/step - loss: 0.0329 - acc: 0.9913 - val_loss: 2.8636 - val_acc: 0.6706\n",
      "Epoch 60/100\n",
      "2133/2133 [==============================] - 351s 165ms/step - loss: 0.0379 - acc: 0.9899 - val_loss: 2.8311 - val_acc: 0.6471\n",
      "Epoch 61/100\n",
      "2133/2133 [==============================] - 351s 165ms/step - loss: 0.0313 - acc: 0.9917 - val_loss: 2.4997 - val_acc: 0.6776\n",
      "Epoch 62/100\n",
      "2133/2133 [==============================] - 351s 164ms/step - loss: 0.0403 - acc: 0.9901 - val_loss: 2.8733 - val_acc: 0.6424\n",
      "Epoch 63/100\n",
      "2133/2133 [==============================] - 351s 164ms/step - loss: 0.0374 - acc: 0.9894 - val_loss: 3.8500 - val_acc: 0.6047\n",
      "Epoch 64/100\n",
      "2133/2133 [==============================] - 351s 165ms/step - loss: 0.0360 - acc: 0.9908 - val_loss: 3.4628 - val_acc: 0.6094\n",
      "Epoch 65/100\n",
      "2133/2133 [==============================] - 350s 164ms/step - loss: 0.0312 - acc: 0.9915 - val_loss: 3.0566 - val_acc: 0.6353\n",
      "Epoch 66/100\n",
      "2133/2133 [==============================] - 351s 164ms/step - loss: 0.0421 - acc: 0.9901 - val_loss: 3.4153 - val_acc: 0.6118\n",
      "Epoch 67/100\n",
      "2133/2133 [==============================] - 351s 164ms/step - loss: 0.0283 - acc: 0.9919 - val_loss: 2.6822 - val_acc: 0.6682\n",
      "Epoch 68/100\n",
      "2133/2133 [==============================] - 350s 164ms/step - loss: 0.0250 - acc: 0.9932 - val_loss: 3.6162 - val_acc: 0.5929\n",
      "Epoch 69/100\n",
      "2133/2133 [==============================] - 351s 164ms/step - loss: 0.0264 - acc: 0.9927 - val_loss: 2.6988 - val_acc: 0.6706\n",
      "Epoch 70/100\n",
      "2133/2133 [==============================] - 351s 165ms/step - loss: 0.0307 - acc: 0.9916 - val_loss: 2.8256 - val_acc: 0.6471\n",
      "Epoch 71/100\n",
      "2133/2133 [==============================] - 351s 164ms/step - loss: 0.0255 - acc: 0.9939 - val_loss: 3.0593 - val_acc: 0.6518\n",
      "Epoch 72/100\n",
      "2133/2133 [==============================] - 350s 164ms/step - loss: 0.0347 - acc: 0.9915 - val_loss: 3.3604 - val_acc: 0.6471\n",
      "Epoch 73/100\n",
      "2133/2133 [==============================] - 350s 164ms/step - loss: 0.0365 - acc: 0.9923 - val_loss: 3.1271 - val_acc: 0.6753\n",
      "Epoch 74/100\n",
      "2133/2133 [==============================] - 350s 164ms/step - loss: 0.0271 - acc: 0.9925 - val_loss: 3.4907 - val_acc: 0.6306\n",
      "Epoch 75/100\n",
      "2133/2133 [==============================] - 350s 164ms/step - loss: 0.0260 - acc: 0.9936 - val_loss: 2.7871 - val_acc: 0.6400\n",
      "Epoch 76/100\n",
      "2133/2133 [==============================] - 358s 168ms/step - loss: 0.0261 - acc: 0.9925 - val_loss: 3.2603 - val_acc: 0.6400\n",
      "Epoch 77/100\n",
      "2133/2133 [==============================] - 362s 170ms/step - loss: 0.0209 - acc: 0.9954 - val_loss: 3.8814 - val_acc: 0.6212\n",
      "Epoch 78/100\n",
      "2133/2133 [==============================] - 358s 168ms/step - loss: 0.0242 - acc: 0.9942 - val_loss: 4.5667 - val_acc: 0.6071\n",
      "Epoch 79/100\n",
      "2133/2133 [==============================] - 354s 166ms/step - loss: 0.0294 - acc: 0.9926 - val_loss: 2.8257 - val_acc: 0.6729\n",
      "Epoch 80/100\n",
      "2133/2133 [==============================] - 354s 166ms/step - loss: 0.0204 - acc: 0.9952 - val_loss: 4.0120 - val_acc: 0.6518\n",
      "Epoch 81/100\n",
      "2133/2133 [==============================] - 354s 166ms/step - loss: 0.0299 - acc: 0.9919 - val_loss: 3.6474 - val_acc: 0.6282\n",
      "Epoch 82/100\n",
      "2133/2133 [==============================] - 354s 166ms/step - loss: 0.0208 - acc: 0.9958 - val_loss: 3.0395 - val_acc: 0.6753\n",
      "Epoch 83/100\n",
      "2133/2133 [==============================] - 354s 166ms/step - loss: 0.0331 - acc: 0.9921 - val_loss: 3.0524 - val_acc: 0.6400\n",
      "Epoch 84/100\n",
      "2133/2133 [==============================] - 353s 166ms/step - loss: 0.0209 - acc: 0.9935 - val_loss: 3.2629 - val_acc: 0.6447\n",
      "Epoch 85/100\n",
      "2133/2133 [==============================] - 354s 166ms/step - loss: 0.0236 - acc: 0.9945 - val_loss: 3.8256 - val_acc: 0.6282\n",
      "Epoch 86/100\n",
      "2133/2133 [==============================] - 354s 166ms/step - loss: 0.0208 - acc: 0.9947 - val_loss: 3.0323 - val_acc: 0.6706\n",
      "Epoch 87/100\n",
      "2133/2133 [==============================] - 354s 166ms/step - loss: 0.0185 - acc: 0.9956 - val_loss: 2.7908 - val_acc: 0.6871\n",
      "Epoch 88/100\n",
      "2133/2133 [==============================] - 353s 166ms/step - loss: 0.0154 - acc: 0.9963 - val_loss: 3.1294 - val_acc: 0.6706\n",
      "Epoch 89/100\n",
      "2133/2133 [==============================] - 353s 166ms/step - loss: 0.0147 - acc: 0.9960 - val_loss: 3.3669 - val_acc: 0.6518\n",
      "Epoch 90/100\n",
      "2133/2133 [==============================] - 353s 166ms/step - loss: 0.0138 - acc: 0.9975 - val_loss: 2.9353 - val_acc: 0.6918\n",
      "Epoch 91/100\n",
      "2133/2133 [==============================] - 353s 166ms/step - loss: 0.0207 - acc: 0.9950 - val_loss: 4.7776 - val_acc: 0.6094\n",
      "Epoch 92/100\n",
      "2133/2133 [==============================] - 354s 166ms/step - loss: 0.0199 - acc: 0.9951 - val_loss: 3.4860 - val_acc: 0.6424\n",
      "Epoch 93/100\n",
      "2133/2133 [==============================] - 354s 166ms/step - loss: 0.0137 - acc: 0.9969 - val_loss: 3.0215 - val_acc: 0.6729\n",
      "Epoch 94/100\n",
      "2133/2133 [==============================] - 353s 166ms/step - loss: 0.0211 - acc: 0.9950 - val_loss: 2.8927 - val_acc: 0.6776\n",
      "Epoch 95/100\n",
      "2133/2133 [==============================] - 353s 166ms/step - loss: 0.0274 - acc: 0.9941 - val_loss: 5.9807 - val_acc: 0.4847\n",
      "Epoch 96/100\n",
      "2133/2133 [==============================] - 353s 165ms/step - loss: 0.0201 - acc: 0.9948 - val_loss: 2.8233 - val_acc: 0.6729\n",
      "Epoch 97/100\n",
      "2133/2133 [==============================] - 353s 165ms/step - loss: 0.0199 - acc: 0.9949 - val_loss: 4.1395 - val_acc: 0.6235\n",
      "Epoch 98/100\n",
      "2133/2133 [==============================] - 353s 166ms/step - loss: 0.0146 - acc: 0.9965 - val_loss: 2.9523 - val_acc: 0.6894\n",
      "Epoch 99/100\n",
      "2133/2133 [==============================] - 353s 165ms/step - loss: 0.0207 - acc: 0.9960 - val_loss: 3.1340 - val_acc: 0.6706\n",
      "Epoch 100/100\n",
      "2133/2133 [==============================] - 353s 166ms/step - loss: 0.0150 - acc: 0.9964 - val_loss: 5.3763 - val_acc: 0.5129\n",
      "Training Finished\n"
     ]
    }
   ],
   "source": [
    "# Model fitting and training run\n",
    "inception_4class_modelE=model.fit_generator(train_generator, steps_per_epoch= ntraining, class_weight='auto',epochs=epochs, validation_data=val_generator, callbacks=[time_callback])\n",
    "\n",
    "print (\"Training Finished\")"
   ]
  },
  {
   "cell_type": "code",
   "execution_count": 10,
   "metadata": {},
   "outputs": [],
   "source": [
    "! mkdir -p /output/results/"
   ]
  },
  {
   "cell_type": "markdown",
   "metadata": {},
   "source": [
    "# Save Run metadata to modelInfo¶"
   ]
  },
  {
   "cell_type": "code",
   "execution_count": 11,
   "metadata": {},
   "outputs": [],
   "source": [
    "# Get timestamp:\n",
    "now = datetime.datetime.now()\n",
    "filetime = str(now.year)+str(now.month)+str(now.day)+'_'+str(now.hour)+str(now.minute)\n",
    "\n",
    "# Time per Epoch:\n",
    "modelInfo['epochTimeInfo'] = time_callback.times\n",
    "\n",
    "# Save timestamped model to modelfilename\n",
    "modelfilename=results_dir+'inception_4class_modelE_'+filetime+'.h5'\n",
    "model.save(modelfilename)"
   ]
  },
  {
   "cell_type": "markdown",
   "metadata": {},
   "source": [
    "# Save Model into .CSV File"
   ]
  },
  {
   "cell_type": "code",
   "execution_count": 47,
   "metadata": {},
   "outputs": [],
   "source": [
    "hist = inception_4class_modelE.history\n",
    "hist = pd.DataFrame(hist)\n",
    "hist.to_csv(results_dir+'inception_4class_modelE_'+filetime+'.csv')"
   ]
  },
  {
   "cell_type": "markdown",
   "metadata": {},
   "source": [
    "# Save Run Results to modelInfo:"
   ]
  },
  {
   "cell_type": "code",
   "execution_count": 48,
   "metadata": {},
   "outputs": [],
   "source": [
    "# Training and Validation accuracy and loss per epoch\n",
    "modelInfo['historyData'] =  pd.DataFrame(inception_4class_modelE.history).to_dict(orient='records')\n",
    "\n",
    "###target_names maps the character names (or labels) to the index(integer) used in the output files\n",
    "modelInfo['target_names']  = val_generator.class_indices\n",
    "\n",
    "modelInfo['labelname_to_index']  = val_generator.class_indices\n",
    "\n",
    "modelInfo['index_to_labelname']  = {(v,k) for k,v in val_generator.class_indices.items() }"
   ]
  },
  {
   "cell_type": "markdown",
   "metadata": {},
   "source": [
    "# Run Model on Test Images:"
   ]
  },
  {
   "cell_type": "code",
   "execution_count": 49,
   "metadata": {},
   "outputs": [],
   "source": [
    "# Get number of Testing Images\n",
    "nTest = 0\n",
    "for root, dirs, files in os.walk(test_dir):\n",
    "    nTest += len(files)"
   ]
  },
  {
   "cell_type": "code",
   "execution_count": 50,
   "metadata": {},
   "outputs": [
    {
     "name": "stdout",
     "output_type": "stream",
     "text": [
      "Found 744 images belonging to 4 classes.\n"
     ]
    }
   ],
   "source": [
    "# Testing Data Generator:\n",
    "# modified to suit histology images - 17th Aug, 2018\n",
    "#test_datagen = ImageDataGenerator(rescale=1. /255.)\n",
    "#testing_generator_noShuffle = test_datagen.flow_from_directory(\n",
    "#    test_dir,\n",
    "#    target_size=(img_width, img_height),\n",
    "#    batch_size=batch_size,\n",
    "#    shuffle=False,\n",
    "#    class_mode='categorical')\n",
    "\n",
    "test_datagen = ImageDataGenerator()\n",
    "testing_generator_noShuffle = test_datagen.flow_from_directory(\n",
    "    test_dir, \n",
    "    target_size=(150,150),\n",
    "    batch_size=batch_size,\n",
    "    color_mode=colormode,\n",
    "    shuffle = False,\n",
    "    class_mode='categorical')"
   ]
  },
  {
   "cell_type": "code",
   "execution_count": 51,
   "metadata": {},
   "outputs": [],
   "source": [
    "# predict_Validation: narray\n",
    "# row= image\n",
    "# column= probability of falling within label matching column_index\n",
    "predict_Testing = model.predict_generator(testing_generator_noShuffle)"
   ]
  },
  {
   "cell_type": "code",
   "execution_count": 52,
   "metadata": {},
   "outputs": [],
   "source": [
    "# Best Prediction for all labels: I don't know why we are calculating this (FG)\n",
    "best_prediction_per_label= [ max( predict_Testing[:,j] ) for j in range( predict_Testing.shape[1] ) ]"
   ]
  },
  {
   "cell_type": "markdown",
   "metadata": {},
   "source": [
    "# Predicted label for each image:"
   ]
  },
  {
   "cell_type": "code",
   "execution_count": 53,
   "metadata": {},
   "outputs": [],
   "source": [
    "predicted_labels= []\n",
    "# Find highest probability in prediction list for each image\n",
    "for i in predict_Testing:\n",
    "    i= list(i)\n",
    "    max_value = max(i) \n",
    "    predicted_labels.append( i.index(max_value) )"
   ]
  },
  {
   "cell_type": "markdown",
   "metadata": {},
   "source": [
    "# Confusion Matrix generation"
   ]
  },
  {
   "cell_type": "code",
   "execution_count": 54,
   "metadata": {},
   "outputs": [],
   "source": [
    "modelInfo['confusion_matrix'] = confusion_matrix(testing_generator_noShuffle.classes, predicted_labels)"
   ]
  },
  {
   "cell_type": "code",
   "execution_count": 55,
   "metadata": {},
   "outputs": [
    {
     "data": {
      "text/plain": [
       "array([[205,  63,   5,   1],\n",
       "       [ 26,  63,   6,   0],\n",
       "       [  4,   1, 173,  12],\n",
       "       [  2,   2,  24, 157]])"
      ]
     },
     "execution_count": 55,
     "metadata": {},
     "output_type": "execute_result"
    }
   ],
   "source": [
    "modelInfo['confusion_matrix']"
   ]
  },
  {
   "cell_type": "markdown",
   "metadata": {},
   "source": [
    "# Confusion Matrix in a Plot"
   ]
  },
  {
   "cell_type": "code",
   "execution_count": 56,
   "metadata": {},
   "outputs": [
    {
     "data": {
      "image/png": "[encoded data removed]",
      "text/plain": [
       "<Figure size 720x720 with 2 Axes>"
      ]
     },
     "metadata": {},
     "output_type": "display_data"
    }
   ],
   "source": [
    "import matplotlib.pyplot as pyplot\n",
    "pyplot.figure\n",
    "#target_names = val_generator.class_indices\n",
    "target_names = testing_generator_noShuffle.class_indices\n",
    "pyplot.figure(figsize=(10,10))\n",
    "cnf_matrix = confusion_matrix(testing_generator_noShuffle.classes, predicted_labels)\n",
    "classes = list(target_names)\n",
    "pyplot.imshow(cnf_matrix, interpolation='nearest')\n",
    "pyplot.colorbar()\n",
    "tick_marks = np.arange(len(classes))  \n",
    "_ = pyplot.xticks(tick_marks, classes, rotation=90)\n",
    "_ = pyplot.yticks(tick_marks, classes)\n",
    "plotopt= results_dir + 'TCGA_4_class_inception_modelE_'+filetime+'.png'\n",
    "pyplot.savefig(plotopt)"
   ]
  },
  {
   "cell_type": "code",
   "execution_count": 57,
   "metadata": {},
   "outputs": [],
   "source": [
    "cls_rpt = classification_report(testing_generator_noShuffle.classes, predicted_labels, target_names= testing_generator_noShuffle.class_indices)"
   ]
  },
  {
   "cell_type": "code",
   "execution_count": 58,
   "metadata": {},
   "outputs": [
    {
     "name": "stdout",
     "output_type": "stream",
     "text": [
      "             precision    recall  f1-score   support\n",
      "\n",
      "       brca       0.86      0.75      0.80       274\n",
      "       coad       0.49      0.66      0.56        95\n",
      "        lgg       0.83      0.91      0.87       190\n",
      "        gbm       0.92      0.85      0.88       185\n",
      "\n",
      "avg / total       0.82      0.80      0.81       744\n",
      "\n"
     ]
    }
   ],
   "source": [
    "print(cls_rpt)"
   ]
  },
  {
   "cell_type": "markdown",
   "metadata": {},
   "source": [
    "# Turning into classification report into classification object"
   ]
  },
  {
   "cell_type": "code",
   "execution_count": null,
   "metadata": {},
   "outputs": [],
   "source": [
    "avgresults = cls_rpt.strip().split('\\n')[-1].split()"
   ]
  },
  {
   "cell_type": "code",
   "execution_count": null,
   "metadata": {},
   "outputs": [],
   "source": [
    "overallResults={'label' : 'avg/total', 'precision': avgresults[3], 'recall':avgresults[4],'f1-score':avgresults[5], 'support':avgresults[6]}"
   ]
  },
  {
   "cell_type": "code",
   "execution_count": null,
   "metadata": {},
   "outputs": [],
   "source": [
    "precision, recall, fscore, support  =  precision_recall_fscore_support(testing_generator_noShuffle.classes, predicted_labels)"
   ]
  },
  {
   "cell_type": "code",
   "execution_count": null,
   "metadata": {},
   "outputs": [],
   "source": [
    "modelInfo['classificationObject'] =  characterResultsArray =  {\n",
    "    'label':val_generator.class_indices.keys(),\n",
    "    'precision': precision,\n",
    "    'recall':recall,\n",
    "    'fscore': fscore, 'support':support,\n",
    "    'overallResults':{'label' : 'avg/total', \n",
    "                      'precision': avgresults[3], \n",
    "                      'recall':avgresults[4],\n",
    "                      'f1-score':avgresults[5],\n",
    "                      'support':avgresults[6]}}"
   ]
  },
  {
   "cell_type": "code",
   "execution_count": null,
   "metadata": {},
   "outputs": [],
   "source": [
    "modelInfo['classificationObject']"
   ]
  },
  {
   "cell_type": "markdown",
   "metadata": {},
   "source": [
    "# Create Prediction object for each test image with filename, actual image label, Folder"
   ]
  },
  {
   "cell_type": "code",
   "execution_count": null,
   "metadata": {},
   "outputs": [],
   "source": [
    "import glob\n",
    "import os\n",
    "import keras.preprocessing.image as Kimg\n",
    "\n",
    "modelInfo['imgprediction'] = []\n",
    "\n",
    "model=load_model(modelfilename)\n",
    "\n",
    "for fld in os.listdir('/data/test/'): \n",
    "    trueLabel = fld\n",
    "    for img in os.listdir('/data/test/%s/' %trueLabel): \n",
    "        imgPath = \"/data/test/%s/%s\" % (fld, img)\n",
    "        x = Kimg.load_img(imgPath, target_size=(64,64))\n",
    "        x = Kimg.img_to_array(x)\n",
    "        x = x.reshape((1,) + x.shape)\n",
    "        x = x/255.\n",
    "        pr=model.predict(x)\n",
    "        curr = {'filename': img, 'actualImageLabel': fld, 'modelprediction':pr} \n",
    "        modelInfo['imgprediction'].append(curr) "
   ]
  },
  {
   "cell_type": "code",
   "execution_count": null,
   "metadata": {},
   "outputs": [],
   "source": [
    "modelInfo['imgprediction']"
   ]
  }
 ],
 "metadata": {
  "kernelspec": {
   "display_name": "Python 3",
   "language": "python",
   "name": "python3"
  },
  "language_info": {
   "codemirror_mode": {
    "name": "ipython",
    "version": 3
   },
   "file_extension": ".py",
   "mimetype": "text/x-python",
   "name": "python",
   "nbconvert_exporter": "python",
   "pygments_lexer": "ipython3",
   "version": "3.5.2"
  }
 },
 "nbformat": 4,
 "nbformat_minor": 2
}
