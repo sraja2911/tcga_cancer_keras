{
 "cells": [
  {
   "cell_type": "code",
   "execution_count": null,
   "metadata": {},
   "outputs": [],
   "source": [
    "import sys, os\n",
    "from os.path import join as oj\n",
    "\n",
    "\n",
    "thumbnailURL = \"item/%s/tiles/thumbnail?width=%s\" \n",
    "\n",
    "class LinePrinter():\n",
    "   \"\"\"\n",
    "   Print things to stdout on one line dynamically\n",
    "   \"\"\"\n",
    "   def __init__(self,data):\n",
    "       sys.stdout.write(\"\\r\\x1b[K\"+data.__str__())\n",
    "       sys.stdout.flush()"
   ]
  },
  {
   "cell_type": "code",
   "execution_count": null,
   "metadata": {},
   "outputs": [],
   "source": [
    "def downloadImageSet( imageSet, downloadDir, girderClient, thumbSize):\n",
    "    imagesDownloaded = 0\n",
    "    gc=girderClient\n",
    "\n",
    "    if not os.path.isdir(downloadDir):\n",
    "        os.makedirs(downloadDir)\n",
    "\n",
    "    for i in imageSet:\n",
    "        ## I am using the tcga.barcode\n",
    "        thumbName = i['tcga']['barcode']+\".macro.\" + str(thumbSize)+\".jpg\"\n",
    "        thumbWpath = oj(downloadDir,thumbName)\n",
    "        imagesDownloaded +=1\n",
    "\n",
    "        if not os.path.isfile(thumbWpath):\n",
    "            curImage = gc.get( thumbnailURL % (i['_id'],thumbSize), jsonResp=False)\n",
    "            with open(thumbWpath,\"w\") as fp:\n",
    "                fp.write( curImage.content)\n",
    "        LinePrinter(\"Have downloaded a total of %d images\" % imagesDownloaded ) \n",
    "    print"
   ]
  },
  {
   "cell_type": "code",
   "execution_count": null,
   "metadata": {},
   "outputs": [],
   "source": [
    "### This will download an image set that is specified by a .JSON file\n",
    "import girder_client\n",
    "import os,sys\n",
    "import json\n",
    "from os.path import join as oj"
   ]
  },
  {
   "cell_type": "code",
   "execution_count": null,
   "metadata": {},
   "outputs": [],
   "source": [
    "useGirderDefaultPaths = True\n",
    "### SURPRISE ME!!!\n",
    "## rootFolder = whatever else it defaults to...\n",
    "\n",
    "imageDataDict = {}  ## This gets the data set definition and links to download the imageData\n",
    "with open(\"TCGA.MultiClass.MacroImageSet.json\",\"r\") as fp:\n",
    "    imageDataDict = json.load(fp)\n",
    "\n",
    "### Set Default Parameters\n",
    "thumbSize = 500\n",
    "testSetName  = imageDataDict['meta']['testSetName']\n",
    "startDir = os.path.expanduser('~/tcgaImageSet_aadi_modelb')  ### TO DO:  Make this a parmeter"
   ]
  },
  {
   "cell_type": "code",
   "execution_count": null,
   "metadata": {},
   "outputs": [],
   "source": [
    "## Connect to girder so I can actually download the images..\n",
    "gc = girder_client.GirderClient(apiUrl=imageDataDict['serverAPIUrl'] )"
   ]
  },
  {
   "cell_type": "code",
   "execution_count": null,
   "metadata": {},
   "outputs": [],
   "source": [
    "startDir"
   ]
  },
  {
   "cell_type": "code",
   "execution_count": null,
   "metadata": {},
   "outputs": [],
   "source": [
    "###   Create root directory for this training set\n",
    "#downloadDir = os.path.join(startDir,testSetName,'macro',str(thumbSize))\n",
    "downloadDir = os.path.join(startDir)"
   ]
  },
  {
   "cell_type": "code",
   "execution_count": null,
   "metadata": {},
   "outputs": [],
   "source": [
    "imagesDownloaded = 0 ### Going to keep a counter for the downloaded images\n",
    "for lbl in imageDataDict['meta']['cohortLabels']:\n",
    "\tprint lbl\n",
    "\n",
    "\t## FUTURE VERSIONS... can specift thumbnail size and also macro vs tiles\n",
    "\ttrainingOutputDir = os.path.join(downloadDir,\"train\",lbl)\n",
    "\ttestingOutputDir = os.path.join(downloadDir,\"test\",lbl)\n",
    "\tvalidationOutputDir = os.path.join(downloadDir,\"val\",lbl)\n",
    "\n",
    "\tdownloadImageSet( imageDataDict['trainingSet'][lbl], trainingOutputDir, gc,thumbSize)\n",
    "\tprint \"Training Set Downloaded %s\" % lbl\n",
    "\tdownloadImageSet( imageDataDict['testSet'][lbl], testingOutputDir,gc,thumbSize )\n",
    "\tprint \"Testing Set Downloaded for %s\" % lbl\n",
    "\tdownloadImageSet( imageDataDict['valSet'][lbl], validationOutputDir,gc,thumbSize )\n",
    "\tprint \"Downloaded validation set for %s\" % lbl"
   ]
  },
  {
   "cell_type": "code",
   "execution_count": null,
   "metadata": {},
   "outputs": [],
   "source": []
  }
 ],
 "metadata": {
  "kernelspec": {
   "display_name": "DSA Python2",
   "language": "python",
   "name": "dsa"
  },
  "language_info": {
   "codemirror_mode": {
    "name": "ipython",
    "version": 2
   },
   "file_extension": ".py",
   "mimetype": "text/x-python",
   "name": "python",
   "nbconvert_exporter": "python",
   "pygments_lexer": "ipython2",
   "version": "2.7.15"
  }
 },
 "nbformat": 4,
 "nbformat_minor": 2
}
